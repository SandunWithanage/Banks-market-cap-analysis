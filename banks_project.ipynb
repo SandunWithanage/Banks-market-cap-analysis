{
  "nbformat": 4,
  "nbformat_minor": 0,
  "metadata": {
    "colab": {
      "provenance": []
    },
    "kernelspec": {
      "name": "python3",
      "display_name": "Python 3"
    },
    "language_info": {
      "name": "python"
    }
  },
  "cells": [
    {
      "cell_type": "code",
      "source": [
        "# Download a file containing exchange rates\n",
        "!wget https://cf-courses-data.s3.us.cloud-object-storage.appdomain.cloud/IBMSkillsNetwork-PY0221EN-Coursera/labs/v2/exchange_rate.csv"
      ],
      "metadata": {
        "colab": {
          "base_uri": "https://localhost:8080/"
        },
        "id": "B5IfF_8SAxMG",
        "outputId": "a0a63c24-a450-40e5-f403-b0763d972d71"
      },
      "execution_count": null,
      "outputs": [
        {
          "output_type": "stream",
          "name": "stdout",
          "text": [
            "--2024-09-25 16:28:43--  https://cf-courses-data.s3.us.cloud-object-storage.appdomain.cloud/IBMSkillsNetwork-PY0221EN-Coursera/labs/v2/exchange_rate.csv\n",
            "Resolving cf-courses-data.s3.us.cloud-object-storage.appdomain.cloud (cf-courses-data.s3.us.cloud-object-storage.appdomain.cloud)... 169.63.118.104\n",
            "Connecting to cf-courses-data.s3.us.cloud-object-storage.appdomain.cloud (cf-courses-data.s3.us.cloud-object-storage.appdomain.cloud)|169.63.118.104|:443... connected.\n",
            "HTTP request sent, awaiting response... 200 OK\n",
            "Length: 45 [text/csv]\n",
            "Saving to: ‘exchange_rate.csv’\n",
            "\n",
            "exchange_rate.csv   100%[===================>]      45  --.-KB/s    in 0s      \n",
            "\n",
            "2024-09-25 16:28:44 (16.9 MB/s) - ‘exchange_rate.csv’ saved [45/45]\n",
            "\n"
          ]
        }
      ]
    },
    {
      "cell_type": "code",
      "source": [
        "# Code for ETL operations on Country-GDP data\n",
        "# Importing the required libraries\n",
        "import requests\n",
        "from bs4 import BeautifulSoup\n",
        "import pandas as pd\n",
        "import sqlite3\n",
        "import numpy as np\n",
        "from datetime import datetime\n",
        "\n",
        "def log_progress(message):\n",
        "    ''' This function logs the mentioned message of a given stage of the\n",
        "    code execution to a log file. Function returns nothing'''\n",
        "    with open('code_log.txt', 'a') as log_file:\n",
        "        log_file.write(f\"{datetime.now()}: {message}\\\\n\")\n",
        "\n",
        "# Define the known variables\n",
        "url = 'https://web.archive.org/web/20230908091635/https://en.wikipedia.org/wiki/List_of_largest_banks'\n",
        "table_attribs = ['Name', 'MC_USD_Billion']\n",
        "output_path = './Largest_banks_data.csv'\n",
        "db_name = 'Banks.db'\n",
        "table_name = 'Largest_banks'\n",
        "csv_path = 'exchange_rate.csv'\n",
        "\n",
        "# Log the initial message\n",
        "log_progress(\"Preliminaries complete. Initiating ETL process\")"
      ],
      "metadata": {
        "id": "Fu5uW-HQA3aQ"
      },
      "execution_count": null,
      "outputs": []
    },
    {
      "cell_type": "code",
      "source": [
        "#Define the extract function\n",
        "def extract(url, table_attribs):\n",
        "    '''This function aims to extract the required information from the website and save it to a data frame. The function returns the data frame for further processing.'''\n",
        "    #Send a GET request to the URL\n",
        "    response = requests.get(url)\n",
        "    #Parse the response content with BeautifulSoup\n",
        "    soup = BeautifulSoup(response.content, 'html.parser')\n",
        "    #Locate the first table on the webpage\n",
        "    table = soup.find('table')\n",
        "    #Get all the rows from the table\n",
        "    rows = table.find_all('tr')\n",
        "    #Initialize a list to hold the extracted data\n",
        "    data = []\n",
        "   #Loop through each row, skipping the header row\n",
        "    for row in rows[1:]:\n",
        "        # Get all the columns in the current row\n",
        "        cols = row.find_all('td')\n",
        "        #Check if there are any columns in the row\n",
        "        if cols:\n",
        "            # Extract the bank name and market cap from the columns\n",
        "            name = cols[1].text.strip()  # Get the bank name, removing extra whitespace\n",
        "            # Remove unwanted characters from the Market Cap and convert it to float\n",
        "            mc_usd = float(cols[2].text.strip().replace('\\n', '').replace('$', '').replace(',', ''))\n",
        "            # Append the extracted information as a tuple to the data list\n",
        "            data.append((name, mc_usd))\n",
        "    #Create a DataFrame from the extracted data\n",
        "    df = pd.DataFrame(data, columns=table_attribs)\n",
        "    # Return the DataFrame for further processing\n",
        "    return df"
      ],
      "metadata": {
        "id": "Kaqu5hj0BVlP"
      },
      "execution_count": null,
      "outputs": []
    },
    {
      "cell_type": "code",
      "source": [
        "# Step 12: Define the URL of the webpage and the table attributes\n",
        "url = \"https://web.archive.org/web/20230908091635/https://en.wikipedia.org/wiki/List_of_largest_banks\"\n",
        "table_attribs = ['Name', 'Market Cap (USD Billion)']  # Define the column names for the DataFrame"
      ],
      "metadata": {
        "id": "4YZHzBV9Cj0w"
      },
      "execution_count": null,
      "outputs": []
    },
    {
      "cell_type": "code",
      "source": [
        "#Call the extract function and store the returned DataFrame\n",
        "df = extract(url, table_attribs)\n",
        "print(df)"
      ],
      "metadata": {
        "colab": {
          "base_uri": "https://localhost:8080/"
        },
        "id": "Q82l81vOCvDs",
        "outputId": "75b78d51-e67d-4d30-c9dc-4c74adb34838"
      },
      "execution_count": null,
      "outputs": [
        {
          "output_type": "stream",
          "name": "stdout",
          "text": [
            "                                      Name  Market Cap (USD Billion)\n",
            "0                           JPMorgan Chase                    432.92\n",
            "1                          Bank of America                    231.52\n",
            "2  Industrial and Commercial Bank of China                    194.56\n",
            "3               Agricultural Bank of China                    160.68\n",
            "4                                HDFC Bank                    157.91\n",
            "5                              Wells Fargo                    155.87\n",
            "6                        HSBC Holdings PLC                    148.90\n",
            "7                           Morgan Stanley                    140.83\n",
            "8                  China Construction Bank                    139.82\n",
            "9                            Bank of China                    136.81\n"
          ]
        }
      ]
    },
    {
      "cell_type": "code",
      "source": [
        "#Log the completion of the data extraction\n",
        "log_progress(\"Data extraction complete. Initiating Transformation process\")"
      ],
      "metadata": {
        "id": "ZMqnf3i9C85z"
      },
      "execution_count": null,
      "outputs": []
    },
    {
      "cell_type": "code",
      "source": [
        "from google.colab import files\n",
        "uploaded = files.upload()"
      ],
      "metadata": {
        "colab": {
          "base_uri": "https://localhost:8080/",
          "height": 74
        },
        "id": "uf39COF6JjR4",
        "outputId": "5a78005e-c3da-47c7-b448-66106a12f4d3"
      },
      "execution_count": null,
      "outputs": [
        {
          "output_type": "display_data",
          "data": {
            "text/plain": [
              "<IPython.core.display.HTML object>"
            ],
            "text/html": [
              "\n",
              "     <input type=\"file\" id=\"files-e1ee8e8b-9100-42dc-b595-7bd71f795ddb\" name=\"files[]\" multiple disabled\n",
              "        style=\"border:none\" />\n",
              "     <output id=\"result-e1ee8e8b-9100-42dc-b595-7bd71f795ddb\">\n",
              "      Upload widget is only available when the cell has been executed in the\n",
              "      current browser session. Please rerun this cell to enable.\n",
              "      </output>\n",
              "      <script>// Copyright 2017 Google LLC\n",
              "//\n",
              "// Licensed under the Apache License, Version 2.0 (the \"License\");\n",
              "// you may not use this file except in compliance with the License.\n",
              "// You may obtain a copy of the License at\n",
              "//\n",
              "//      http://www.apache.org/licenses/LICENSE-2.0\n",
              "//\n",
              "// Unless required by applicable law or agreed to in writing, software\n",
              "// distributed under the License is distributed on an \"AS IS\" BASIS,\n",
              "// WITHOUT WARRANTIES OR CONDITIONS OF ANY KIND, either express or implied.\n",
              "// See the License for the specific language governing permissions and\n",
              "// limitations under the License.\n",
              "\n",
              "/**\n",
              " * @fileoverview Helpers for google.colab Python module.\n",
              " */\n",
              "(function(scope) {\n",
              "function span(text, styleAttributes = {}) {\n",
              "  const element = document.createElement('span');\n",
              "  element.textContent = text;\n",
              "  for (const key of Object.keys(styleAttributes)) {\n",
              "    element.style[key] = styleAttributes[key];\n",
              "  }\n",
              "  return element;\n",
              "}\n",
              "\n",
              "// Max number of bytes which will be uploaded at a time.\n",
              "const MAX_PAYLOAD_SIZE = 100 * 1024;\n",
              "\n",
              "function _uploadFiles(inputId, outputId) {\n",
              "  const steps = uploadFilesStep(inputId, outputId);\n",
              "  const outputElement = document.getElementById(outputId);\n",
              "  // Cache steps on the outputElement to make it available for the next call\n",
              "  // to uploadFilesContinue from Python.\n",
              "  outputElement.steps = steps;\n",
              "\n",
              "  return _uploadFilesContinue(outputId);\n",
              "}\n",
              "\n",
              "// This is roughly an async generator (not supported in the browser yet),\n",
              "// where there are multiple asynchronous steps and the Python side is going\n",
              "// to poll for completion of each step.\n",
              "// This uses a Promise to block the python side on completion of each step,\n",
              "// then passes the result of the previous step as the input to the next step.\n",
              "function _uploadFilesContinue(outputId) {\n",
              "  const outputElement = document.getElementById(outputId);\n",
              "  const steps = outputElement.steps;\n",
              "\n",
              "  const next = steps.next(outputElement.lastPromiseValue);\n",
              "  return Promise.resolve(next.value.promise).then((value) => {\n",
              "    // Cache the last promise value to make it available to the next\n",
              "    // step of the generator.\n",
              "    outputElement.lastPromiseValue = value;\n",
              "    return next.value.response;\n",
              "  });\n",
              "}\n",
              "\n",
              "/**\n",
              " * Generator function which is called between each async step of the upload\n",
              " * process.\n",
              " * @param {string} inputId Element ID of the input file picker element.\n",
              " * @param {string} outputId Element ID of the output display.\n",
              " * @return {!Iterable<!Object>} Iterable of next steps.\n",
              " */\n",
              "function* uploadFilesStep(inputId, outputId) {\n",
              "  const inputElement = document.getElementById(inputId);\n",
              "  inputElement.disabled = false;\n",
              "\n",
              "  const outputElement = document.getElementById(outputId);\n",
              "  outputElement.innerHTML = '';\n",
              "\n",
              "  const pickedPromise = new Promise((resolve) => {\n",
              "    inputElement.addEventListener('change', (e) => {\n",
              "      resolve(e.target.files);\n",
              "    });\n",
              "  });\n",
              "\n",
              "  const cancel = document.createElement('button');\n",
              "  inputElement.parentElement.appendChild(cancel);\n",
              "  cancel.textContent = 'Cancel upload';\n",
              "  const cancelPromise = new Promise((resolve) => {\n",
              "    cancel.onclick = () => {\n",
              "      resolve(null);\n",
              "    };\n",
              "  });\n",
              "\n",
              "  // Wait for the user to pick the files.\n",
              "  const files = yield {\n",
              "    promise: Promise.race([pickedPromise, cancelPromise]),\n",
              "    response: {\n",
              "      action: 'starting',\n",
              "    }\n",
              "  };\n",
              "\n",
              "  cancel.remove();\n",
              "\n",
              "  // Disable the input element since further picks are not allowed.\n",
              "  inputElement.disabled = true;\n",
              "\n",
              "  if (!files) {\n",
              "    return {\n",
              "      response: {\n",
              "        action: 'complete',\n",
              "      }\n",
              "    };\n",
              "  }\n",
              "\n",
              "  for (const file of files) {\n",
              "    const li = document.createElement('li');\n",
              "    li.append(span(file.name, {fontWeight: 'bold'}));\n",
              "    li.append(span(\n",
              "        `(${file.type || 'n/a'}) - ${file.size} bytes, ` +\n",
              "        `last modified: ${\n",
              "            file.lastModifiedDate ? file.lastModifiedDate.toLocaleDateString() :\n",
              "                                    'n/a'} - `));\n",
              "    const percent = span('0% done');\n",
              "    li.appendChild(percent);\n",
              "\n",
              "    outputElement.appendChild(li);\n",
              "\n",
              "    const fileDataPromise = new Promise((resolve) => {\n",
              "      const reader = new FileReader();\n",
              "      reader.onload = (e) => {\n",
              "        resolve(e.target.result);\n",
              "      };\n",
              "      reader.readAsArrayBuffer(file);\n",
              "    });\n",
              "    // Wait for the data to be ready.\n",
              "    let fileData = yield {\n",
              "      promise: fileDataPromise,\n",
              "      response: {\n",
              "        action: 'continue',\n",
              "      }\n",
              "    };\n",
              "\n",
              "    // Use a chunked sending to avoid message size limits. See b/62115660.\n",
              "    let position = 0;\n",
              "    do {\n",
              "      const length = Math.min(fileData.byteLength - position, MAX_PAYLOAD_SIZE);\n",
              "      const chunk = new Uint8Array(fileData, position, length);\n",
              "      position += length;\n",
              "\n",
              "      const base64 = btoa(String.fromCharCode.apply(null, chunk));\n",
              "      yield {\n",
              "        response: {\n",
              "          action: 'append',\n",
              "          file: file.name,\n",
              "          data: base64,\n",
              "        },\n",
              "      };\n",
              "\n",
              "      let percentDone = fileData.byteLength === 0 ?\n",
              "          100 :\n",
              "          Math.round((position / fileData.byteLength) * 100);\n",
              "      percent.textContent = `${percentDone}% done`;\n",
              "\n",
              "    } while (position < fileData.byteLength);\n",
              "  }\n",
              "\n",
              "  // All done.\n",
              "  yield {\n",
              "    response: {\n",
              "      action: 'complete',\n",
              "    }\n",
              "  };\n",
              "}\n",
              "\n",
              "scope.google = scope.google || {};\n",
              "scope.google.colab = scope.google.colab || {};\n",
              "scope.google.colab._files = {\n",
              "  _uploadFiles,\n",
              "  _uploadFilesContinue,\n",
              "};\n",
              "})(self);\n",
              "</script> "
            ]
          },
          "metadata": {}
        },
        {
          "output_type": "stream",
          "name": "stdout",
          "text": [
            "Saving exchange_rate.csv to exchange_rate (1).csv\n"
          ]
        }
      ]
    },
    {
      "cell_type": "code",
      "source": [
        "#check uploaded files\n",
        "import os\n",
        "# List all files in the current directory\n",
        "print(os.listdir())"
      ],
      "metadata": {
        "colab": {
          "base_uri": "https://localhost:8080/"
        },
        "id": "U-PsTGpyKgex",
        "outputId": "1f44a1f3-8537-493a-ad14-2f47c4848afe"
      },
      "execution_count": null,
      "outputs": [
        {
          "output_type": "stream",
          "name": "stdout",
          "text": [
            "['.config', 'code_log.txt', '.ipynb_checkpoints', 'exchange_rate.csv', 'sample_data']\n"
          ]
        }
      ]
    },
    {
      "source": [
        "def transform(df, csv_path):\n",
        "    ''' This function accesses the CSV file for exchange rate information and adds three columns to the data frame.'''\n",
        "\n",
        "    # Read the exchange rates CSV into a DataFrame\n",
        "    exchange_rates_df = pd.read_csv(csv_path)\n",
        "\n",
        "    # Convert to dictionary: first column as keys, second column as values\n",
        "    exchange_rate = pd.Series(exchange_rates_df['Rate'].values, index=exchange_rates_df['Currency']).to_dict()\n",
        "\n",
        "    # Check if 'Market Cap (USD Billion)' exists, if so, rename it to 'MC_USD_Billion'\n",
        "    if 'Market Cap (USD Billion)' in df.columns:\n",
        "        df = df.rename(columns={'Market Cap (USD Billion)': 'MC_USD_Billion'})\n",
        "\n",
        "    # Add transformed columns to the dataframe\n",
        "    df['MC_GBP_Billion'] = [round(x * exchange_rate['GBP'], 2) for x in df['MC_USD_Billion']]\n",
        "    df['MC_EUR_Billion'] = [round(x * exchange_rate['EUR'], 2) for x in df['MC_USD_Billion']]\n",
        "    df['MC_INR_Billion'] = [round(x * exchange_rate['INR'], 2) for x in df['MC_USD_Billion']]\n",
        "\n",
        "    return df"
      ],
      "cell_type": "code",
      "metadata": {
        "id": "53WoAqVdLLNG"
      },
      "execution_count": null,
      "outputs": []
    },
    {
      "cell_type": "code",
      "source": [
        "transformed_df = transform(df, 'exchange_rate.csv')  # Replace with the actual filename you uploaded\n",
        "print(transformed_df)\n",
        "\n",
        "# Print the market cap of the 5th largest bank in billion EUR\n",
        "print(\"Market Cap of 5th largest bank in EUR:\", transformed_df['MC_EUR_Billion'][4])  # Adjusted to use transformed_df"
      ],
      "metadata": {
        "colab": {
          "base_uri": "https://localhost:8080/"
        },
        "id": "XdEggyYKJHXn",
        "outputId": "a799c20f-57f6-4188-b81a-970332b8a7eb"
      },
      "execution_count": null,
      "outputs": [
        {
          "output_type": "stream",
          "name": "stdout",
          "text": [
            "                                      Name  MC_USD_Billion  MC_GBP_Billion  \\\n",
            "0                           JPMorgan Chase          432.92          346.34   \n",
            "1                          Bank of America          231.52          185.22   \n",
            "2  Industrial and Commercial Bank of China          194.56          155.65   \n",
            "3               Agricultural Bank of China          160.68          128.54   \n",
            "4                                HDFC Bank          157.91          126.33   \n",
            "5                              Wells Fargo          155.87          124.70   \n",
            "6                        HSBC Holdings PLC          148.90          119.12   \n",
            "7                           Morgan Stanley          140.83          112.66   \n",
            "8                  China Construction Bank          139.82          111.86   \n",
            "9                            Bank of China          136.81          109.45   \n",
            "\n",
            "   MC_EUR_Billion  MC_INR_Billion  \n",
            "0          402.62        35910.71  \n",
            "1          215.31        19204.58  \n",
            "2          180.94        16138.75  \n",
            "3          149.43        13328.41  \n",
            "4          146.86        13098.63  \n",
            "5          144.96        12929.42  \n",
            "6          138.48        12351.26  \n",
            "7          130.97        11681.85  \n",
            "8          130.03        11598.07  \n",
            "9          127.23        11348.39  \n",
            "Market Cap of 5th largest bank in EUR: 146.86\n"
          ]
        }
      ]
    },
    {
      "cell_type": "code",
      "source": [
        "def load_to_csv(df, file_path):\n",
        "    ''' This function saves the DataFrame to a specified CSV file. '''\n",
        "    df.to_csv(file_path, index=False)  # Save the DataFrame to a CSV file without the index\n",
        "    print(f\"DataFrame saved to {file_path}\")  # Log entry"
      ],
      "metadata": {
        "id": "WsA3qt5NLSi3"
      },
      "execution_count": null,
      "outputs": []
    },
    {
      "cell_type": "code",
      "source": [
        "# Assuming 'transformed_df' is your DataFrame from the transformation step\n",
        "load_to_csv(transformed_df, 'transformed_banks_data.csv')  # Adjust the filename as needed"
      ],
      "metadata": {
        "colab": {
          "base_uri": "https://localhost:8080/"
        },
        "id": "UiNLITg3McY0",
        "outputId": "c1e9afd8-18c4-4300-9749-89a1fd3047e2"
      },
      "execution_count": null,
      "outputs": [
        {
          "output_type": "stream",
          "name": "stdout",
          "text": [
            "DataFrame saved to transformed_banks_data.csv\n"
          ]
        }
      ]
    },
    {
      "cell_type": "code",
      "source": [
        "import os\n",
        "# List files to verify the CSV file is created\n",
        "print(os.listdir())"
      ],
      "metadata": {
        "colab": {
          "base_uri": "https://localhost:8080/"
        },
        "id": "coFlel4nMgyt",
        "outputId": "6390cb90-6159-4edd-afe3-4a4cba9ac4f1"
      },
      "execution_count": null,
      "outputs": [
        {
          "output_type": "stream",
          "name": "stdout",
          "text": [
            "['.config', 'code_log.txt', '.ipynb_checkpoints', 'exchange_rate.csv', 'transformed_banks_data.csv', 'sample_data']\n"
          ]
        }
      ]
    },
    {
      "cell_type": "code",
      "source": [
        "def load_to_db(conn, table_name, df):\n",
        "    ''' This function loads the DataFrame into the specified SQL table. '''\n",
        "    df.to_sql(table_name, conn, if_exists='replace', index=False)  # Replace if the table already exists\n",
        "    print(f\"Data loaded into the table '{table_name}' in the database.\")  # Log entry"
      ],
      "metadata": {
        "id": "LNZ26RYVMl28"
      },
      "execution_count": null,
      "outputs": []
    },
    {
      "cell_type": "code",
      "source": [
        "# Create a connection to the SQLite database\n",
        "conn = sqlite3.connect('Banks.db')  # This will create the database if it doesn't exist"
      ],
      "metadata": {
        "id": "lQxzxwZWM5NK"
      },
      "execution_count": null,
      "outputs": []
    },
    {
      "cell_type": "code",
      "source": [
        "# Assuming 'transformed_df' is your DataFrame from the transformation step\n",
        "load_to_db(conn, 'Largest_banks', transformed_df)  # Load the data into the table"
      ],
      "metadata": {
        "colab": {
          "base_uri": "https://localhost:8080/"
        },
        "id": "vcmUOT00M7f4",
        "outputId": "3d388bd9-8e7f-4f58-c03b-c3dbd38e0fc6"
      },
      "execution_count": null,
      "outputs": [
        {
          "output_type": "stream",
          "name": "stdout",
          "text": [
            "Data loaded into the table 'Largest_banks' in the database.\n"
          ]
        }
      ]
    },
    {
      "cell_type": "code",
      "source": [
        "# Close the database connection\n",
        "conn.close()"
      ],
      "metadata": {
        "id": "UKF_IdcuM9xl"
      },
      "execution_count": null,
      "outputs": []
    },
    {
      "cell_type": "code",
      "source": [
        "def run_queries(query, conn):\n",
        "    ''' This function runs the provided SQL query and prints the results along with the query statement. '''\n",
        "    cursor = conn.cursor()  # Create a cursor object to execute SQL commands\n",
        "    cursor.execute(query)  # Execute the SQL query\n",
        "    results = cursor.fetchall()  # Fetch all results\n",
        "\n",
        "    # Print the query statement\n",
        "    print(f\"Query: {query}\")\n",
        "    # Print the results\n",
        "    for row in results:\n",
        "        print(row)  # Print each row of the results\n",
        "    cursor.close()  # Close the cursor"
      ],
      "metadata": {
        "id": "hmI0dfu_M__7"
      },
      "execution_count": null,
      "outputs": []
    },
    {
      "cell_type": "code",
      "source": [
        "# Create a connection to the SQLite database\n",
        "conn = sqlite3.connect('Banks.db')"
      ],
      "metadata": {
        "id": "aqP2QpxBN4ee"
      },
      "execution_count": null,
      "outputs": []
    },
    {
      "cell_type": "code",
      "source": [
        "# Query to print the contents of the entire table\n",
        "query1 = \"SELECT * FROM Largest_banks\"\n",
        "run_queries(query1, conn)  # Execute and print results\n",
        "\n",
        "# Query to print the average market capitalization of all the banks in Billion USD\n",
        "query2 = \"SELECT AVG(MC_GBP_Billion) FROM Largest_banks\"\n",
        "run_queries(query2, conn)  # Execute and print results\n",
        "\n",
        "# Query to print only the names of the top 5 banks\n",
        "query3 = \"SELECT Name FROM Largest_banks LIMIT 5\"\n",
        "run_queries(query3, conn)  # Execute and print results"
      ],
      "metadata": {
        "colab": {
          "base_uri": "https://localhost:8080/"
        },
        "id": "NKuFg32DN7DX",
        "outputId": "4e1ba41a-8868-4456-ddf6-b6abb0015439"
      },
      "execution_count": null,
      "outputs": [
        {
          "output_type": "stream",
          "name": "stdout",
          "text": [
            "Query: SELECT * FROM Largest_banks\n",
            "('JPMorgan Chase', 432.92, 346.34, 402.62, 35910.71)\n",
            "('Bank of America', 231.52, 185.22, 215.31, 19204.58)\n",
            "('Industrial and Commercial Bank of China', 194.56, 155.65, 180.94, 16138.75)\n",
            "('Agricultural Bank of China', 160.68, 128.54, 149.43, 13328.41)\n",
            "('HDFC Bank', 157.91, 126.33, 146.86, 13098.63)\n",
            "('Wells Fargo', 155.87, 124.7, 144.96, 12929.42)\n",
            "('HSBC Holdings PLC', 148.9, 119.12, 138.48, 12351.26)\n",
            "('Morgan Stanley', 140.83, 112.66, 130.97, 11681.85)\n",
            "('China Construction Bank', 139.82, 111.86, 130.03, 11598.07)\n",
            "('Bank of China', 136.81, 109.45, 127.23, 11348.39)\n",
            "Query: SELECT AVG(MC_GBP_Billion) FROM Largest_banks\n",
            "(151.98700000000002,)\n",
            "Query: SELECT Name FROM Largest_banks LIMIT 5\n",
            "('JPMorgan Chase',)\n",
            "('Bank of America',)\n",
            "('Industrial and Commercial Bank of China',)\n",
            "('Agricultural Bank of China',)\n",
            "('HDFC Bank',)\n"
          ]
        }
      ]
    },
    {
      "cell_type": "code",
      "source": [
        "# Close the database connection\n",
        "conn.close()"
      ],
      "metadata": {
        "id": "w7i9CKJ9N9qN"
      },
      "execution_count": null,
      "outputs": []
    },
    {
      "cell_type": "code",
      "source": [
        "rm code_log.txt"
      ],
      "metadata": {
        "id": "0ah8hnIWOA_m"
      },
      "execution_count": null,
      "outputs": []
    },
    {
      "cell_type": "code",
      "source": [
        "# Define the logging function\n",
        "def log_progress(message):\n",
        "    \"\"\"Log progress messages to code_log.txt.\"\"\"\n",
        "    with open('code_log.txt', 'a') as log_file:\n",
        "        log_file.write(f\"{message}\\n\")\n",
        "\n",
        "# Define your data processing functions (extract, transform, load, etc.)\n",
        "def extract():\n",
        "    log_progress(\"Data extraction started.\")\n",
        "    # Add your data extraction logic here\n",
        "    log_progress(\"Data extraction completed.\")\n",
        "\n",
        "def transform():\n",
        "    log_progress(\"Data transformation started.\")\n",
        "    # Add your data transformation logic here\n",
        "    log_progress(\"Data transformation completed.\")\n",
        "\n",
        "def load_to_csv():\n",
        "    log_progress(\"Loading data to CSV started.\")\n",
        "    # Add your loading logic here\n",
        "    log_progress(\"Data loaded to CSV successfully.\")\n",
        "\n",
        "def load_to_db():\n",
        "    log_progress(\"Loading data to database started.\")\n",
        "    # Add your database loading logic here\n",
        "    log_progress(\"Data loaded to database successfully.\")\n",
        "\n",
        "def main():\n",
        "    log_progress(\"Starting the execution of the banks data processing project.\")\n",
        "    extract()\n",
        "    transform()\n",
        "    load_to_csv()\n",
        "    load_to_db()\n",
        "    log_progress(\"Final execution completed.\")\n",
        "\n",
        "# Run the main execution\n",
        "main()"
      ],
      "metadata": {
        "id": "Z3KP0rTCOYO9"
      },
      "execution_count": null,
      "outputs": []
    },
    {
      "cell_type": "code",
      "source": [
        "# Read and print the contents of the log file\n",
        "with open('code_log.txt', 'r') as log_file:\n",
        "    log_contents = log_file.read()\n",
        "    print(log_contents)"
      ],
      "metadata": {
        "colab": {
          "base_uri": "https://localhost:8080/"
        },
        "id": "wqdJJLu_PYDK",
        "outputId": "95270b8a-842c-4f90-81c0-5dceb17849c6"
      },
      "execution_count": null,
      "outputs": [
        {
          "output_type": "stream",
          "name": "stdout",
          "text": [
            "Starting the execution of the banks data processing project.\n",
            "Data processing completed successfully.\n",
            "Final execution completed.\n",
            "Starting the execution of the banks data processing project.\n",
            "Data extraction started.\n",
            "Data extraction completed.\n",
            "Data transformation started.\n",
            "Data transformation completed.\n",
            "Loading data to CSV started.\n",
            "Data loaded to CSV successfully.\n",
            "Loading data to database started.\n",
            "Data loaded to database successfully.\n",
            "Final execution completed.\n",
            "\n"
          ]
        }
      ]
    },
    {
      "cell_type": "code",
      "source": [
        "from google.colab import files\n",
        "files.download('code_log.txt')"
      ],
      "metadata": {
        "colab": {
          "base_uri": "https://localhost:8080/",
          "height": 17
        },
        "id": "9BpXlcUrQIx5",
        "outputId": "2ec17184-79c2-4370-d8bc-94465b924d9c"
      },
      "execution_count": null,
      "outputs": [
        {
          "output_type": "display_data",
          "data": {
            "text/plain": [
              "<IPython.core.display.Javascript object>"
            ],
            "application/javascript": [
              "\n",
              "    async function download(id, filename, size) {\n",
              "      if (!google.colab.kernel.accessAllowed) {\n",
              "        return;\n",
              "      }\n",
              "      const div = document.createElement('div');\n",
              "      const label = document.createElement('label');\n",
              "      label.textContent = `Downloading \"${filename}\": `;\n",
              "      div.appendChild(label);\n",
              "      const progress = document.createElement('progress');\n",
              "      progress.max = size;\n",
              "      div.appendChild(progress);\n",
              "      document.body.appendChild(div);\n",
              "\n",
              "      const buffers = [];\n",
              "      let downloaded = 0;\n",
              "\n",
              "      const channel = await google.colab.kernel.comms.open(id);\n",
              "      // Send a message to notify the kernel that we're ready.\n",
              "      channel.send({})\n",
              "\n",
              "      for await (const message of channel.messages) {\n",
              "        // Send a message to notify the kernel that we're ready.\n",
              "        channel.send({})\n",
              "        if (message.buffers) {\n",
              "          for (const buffer of message.buffers) {\n",
              "            buffers.push(buffer);\n",
              "            downloaded += buffer.byteLength;\n",
              "            progress.value = downloaded;\n",
              "          }\n",
              "        }\n",
              "      }\n",
              "      const blob = new Blob(buffers, {type: 'application/binary'});\n",
              "      const a = document.createElement('a');\n",
              "      a.href = window.URL.createObjectURL(blob);\n",
              "      a.download = filename;\n",
              "      div.appendChild(a);\n",
              "      a.click();\n",
              "      div.remove();\n",
              "    }\n",
              "  "
            ]
          },
          "metadata": {}
        },
        {
          "output_type": "display_data",
          "data": {
            "text/plain": [
              "<IPython.core.display.Javascript object>"
            ],
            "application/javascript": [
              "download(\"download_f8c11b3e-e137-4efa-8403-b7399eb0b96e\", \"code_log.txt\", 462)"
            ]
          },
          "metadata": {}
        }
      ]
    }
  ]
}